{
 "cells": [
  {
   "cell_type": "markdown",
   "id": "acb9676d",
   "metadata": {},
   "source": [
    "# 01. Importing libraries"
   ]
  },
  {
   "cell_type": "code",
   "execution_count": 1,
   "id": "ead8a5b0",
   "metadata": {},
   "outputs": [],
   "source": [
    "# Import libraries\n",
    "import pandas as pd\n",
    "import numpy as np\n",
    "import os"
   ]
  },
  {
   "cell_type": "markdown",
   "id": "298780bb",
   "metadata": {},
   "source": [
    "# 02. Data types"
   ]
  },
  {
   "cell_type": "markdown",
   "id": "c9ba9c82",
   "metadata": {},
   "source": [
    "# Integer"
   ]
  },
  {
   "cell_type": "code",
   "execution_count": 6,
   "id": "c1d9e303",
   "metadata": {},
   "outputs": [],
   "source": [
    "x = 2"
   ]
  },
  {
   "cell_type": "code",
   "execution_count": 7,
   "id": "e3559fbe",
   "metadata": {},
   "outputs": [
    {
     "name": "stdout",
     "output_type": "stream",
     "text": [
      "2\n"
     ]
    }
   ],
   "source": [
    "print(x)"
   ]
  },
  {
   "cell_type": "code",
   "execution_count": 8,
   "id": "d9541761",
   "metadata": {},
   "outputs": [
    {
     "data": {
      "text/plain": [
       "2"
      ]
     },
     "execution_count": 8,
     "metadata": {},
     "output_type": "execute_result"
    }
   ],
   "source": [
    "x"
   ]
  },
  {
   "cell_type": "code",
   "execution_count": 12,
   "id": "cc9e61f3",
   "metadata": {},
   "outputs": [
    {
     "data": {
      "text/plain": [
       "int"
      ]
     },
     "execution_count": 12,
     "metadata": {},
     "output_type": "execute_result"
    }
   ],
   "source": [
    "type(x)"
   ]
  },
  {
   "cell_type": "code",
   "execution_count": 21,
   "id": "c6e2672d",
   "metadata": {},
   "outputs": [
    {
     "name": "stdout",
     "output_type": "stream",
     "text": [
      "2\n"
     ]
    }
   ],
   "source": [
    "print(x)"
   ]
  },
  {
   "cell_type": "code",
   "execution_count": 24,
   "id": "b1c5e721",
   "metadata": {},
   "outputs": [
    {
     "data": {
      "text/plain": [
       "6"
      ]
     },
     "execution_count": 24,
     "metadata": {},
     "output_type": "execute_result"
    }
   ],
   "source": [
    "x+4"
   ]
  },
  {
   "cell_type": "code",
   "execution_count": 23,
   "id": "8936e3cc",
   "metadata": {},
   "outputs": [
    {
     "data": {
      "text/plain": [
       "7.678"
      ]
     },
     "execution_count": 23,
     "metadata": {},
     "output_type": "execute_result"
    }
   ],
   "source": [
    "x+y"
   ]
  },
  {
   "cell_type": "code",
   "execution_count": 25,
   "id": "bd088694",
   "metadata": {},
   "outputs": [],
   "source": [
    "x=x+4"
   ]
  },
  {
   "cell_type": "code",
   "execution_count": 26,
   "id": "135f5ffa",
   "metadata": {},
   "outputs": [
    {
     "name": "stdout",
     "output_type": "stream",
     "text": [
      "6\n"
     ]
    }
   ],
   "source": [
    "print(x)"
   ]
  },
  {
   "cell_type": "code",
   "execution_count": 13,
   "id": "fcbc6fd5",
   "metadata": {},
   "outputs": [],
   "source": [
    "y = 5.678"
   ]
  },
  {
   "cell_type": "code",
   "execution_count": 14,
   "id": "3549a4ee",
   "metadata": {},
   "outputs": [
    {
     "data": {
      "text/plain": [
       "float"
      ]
     },
     "execution_count": 14,
     "metadata": {},
     "output_type": "execute_result"
    }
   ],
   "source": [
    "type(y)"
   ]
  },
  {
   "cell_type": "markdown",
   "id": "05c1bc6f",
   "metadata": {},
   "source": [
    "# Approach 1\n",
    "# Declare two variables\n",
    "a = 150\n",
    "b = 50\n",
    "# Substract the variables\n",
    "result = a - b\n",
    "# Print the result\n",
    "print(result) \n",
    "\n"
   ]
  },
  {
   "cell_type": "code",
   "execution_count": 38,
   "id": "28941cba",
   "metadata": {},
   "outputs": [],
   "source": [
    "a = 150"
   ]
  },
  {
   "cell_type": "code",
   "execution_count": 39,
   "id": "a7ec5a48",
   "metadata": {},
   "outputs": [],
   "source": [
    "b = 50"
   ]
  },
  {
   "cell_type": "code",
   "execution_count": 40,
   "id": "3b61d64c",
   "metadata": {},
   "outputs": [
    {
     "data": {
      "text/plain": [
       "100"
      ]
     },
     "execution_count": 40,
     "metadata": {},
     "output_type": "execute_result"
    }
   ],
   "source": [
    "a - b"
   ]
  },
  {
   "cell_type": "markdown",
   "id": "3a9ab89a",
   "metadata": {},
   "source": [
    "# Approach 2\n",
    "# Declare three variables\n",
    "x = 25\n",
    "y = 30\n",
    "z = 45\n",
    "# Sum the variables\n",
    "result = x + y + z\n",
    "# Print the result\n",
    "print(result) \n"
   ]
  },
  {
   "cell_type": "code",
   "execution_count": 42,
   "id": "9ef410c2",
   "metadata": {},
   "outputs": [],
   "source": [
    "d=25"
   ]
  },
  {
   "cell_type": "code",
   "execution_count": 43,
   "id": "37b3f30e",
   "metadata": {},
   "outputs": [],
   "source": [
    "e=30"
   ]
  },
  {
   "cell_type": "code",
   "execution_count": 44,
   "id": "43b3cdce",
   "metadata": {},
   "outputs": [],
   "source": [
    "f=45"
   ]
  },
  {
   "cell_type": "code",
   "execution_count": 45,
   "id": "8dd5b24f",
   "metadata": {},
   "outputs": [],
   "source": [
    "result=d+e+f"
   ]
  },
  {
   "cell_type": "code",
   "execution_count": 46,
   "id": "6fbe95d9",
   "metadata": {},
   "outputs": [
    {
     "name": "stdout",
     "output_type": "stream",
     "text": [
      "100\n"
     ]
    }
   ],
   "source": [
    "print(result)"
   ]
  },
  {
   "cell_type": "markdown",
   "id": "4ba2cc10",
   "metadata": {},
   "source": [
    "# Approach 3\n",
    "# Declare three variables\n",
    "value_1 = 80\n",
    "value_2 = 30\n",
    "value_3 = -10\n",
    "# Sum the variables\n",
    "result = value_1 + value_2 - value_3\n",
    "# Print the result\n",
    "print(result) \n"
   ]
  },
  {
   "cell_type": "code",
   "execution_count": 47,
   "id": "9abec4ba",
   "metadata": {},
   "outputs": [],
   "source": [
    "value_1 = 80"
   ]
  },
  {
   "cell_type": "code",
   "execution_count": 48,
   "id": "28f913e8",
   "metadata": {},
   "outputs": [],
   "source": [
    "value_2 = 30"
   ]
  },
  {
   "cell_type": "code",
   "execution_count": 52,
   "id": "451fe4cb",
   "metadata": {},
   "outputs": [],
   "source": [
    "value_3 = -10"
   ]
  },
  {
   "cell_type": "code",
   "execution_count": 53,
   "id": "dbbe1326",
   "metadata": {},
   "outputs": [],
   "source": [
    "result = value_1 + value_2 - value_3"
   ]
  },
  {
   "cell_type": "code",
   "execution_count": 55,
   "id": "28dbec9a",
   "metadata": {},
   "outputs": [
    {
     "name": "stdout",
     "output_type": "stream",
     "text": [
      "100\n"
     ]
    }
   ],
   "source": [
    "print(result)"
   ]
  },
  {
   "cell_type": "markdown",
   "id": "3b23dee5",
   "metadata": {},
   "source": [
    "# Float"
   ]
  },
  {
   "cell_type": "markdown",
   "id": "24ce9a3c",
   "metadata": {},
   "source": [
    "\n",
    "# Declare two floating-point variables\n",
    "numerator = 10.5\n",
    "denominator = 2.0\n",
    "\n",
    "# Divide the variables\n",
    "result = numerator / denominator\n",
    "\n",
    "# Print the result\n",
    "print(result) \n",
    "\n"
   ]
  },
  {
   "cell_type": "code",
   "execution_count": 56,
   "id": "e96c55c2",
   "metadata": {},
   "outputs": [],
   "source": [
    "numerator = 10.5"
   ]
  },
  {
   "cell_type": "code",
   "execution_count": 57,
   "id": "82a6f691",
   "metadata": {},
   "outputs": [],
   "source": [
    "denominator = 2.0"
   ]
  },
  {
   "cell_type": "code",
   "execution_count": 58,
   "id": "089b59e5",
   "metadata": {},
   "outputs": [],
   "source": [
    "result = numerator / denominator"
   ]
  },
  {
   "cell_type": "code",
   "execution_count": 59,
   "id": "f2ef98da",
   "metadata": {},
   "outputs": [
    {
     "name": "stdout",
     "output_type": "stream",
     "text": [
      "5.25\n"
     ]
    }
   ],
   "source": [
    "print(result)"
   ]
  },
  {
   "cell_type": "markdown",
   "id": "290f0d90",
   "metadata": {},
   "source": [
    "# String"
   ]
  },
  {
   "cell_type": "markdown",
   "id": "883304bd",
   "metadata": {},
   "source": [
    "# Construct a short word made of separate strings"
   ]
  },
  {
   "cell_type": "markdown",
   "id": "8de44404",
   "metadata": {},
   "source": [
    "# Separate strings\n",
    "part1 = \"Hap\"\n",
    "part2 = \"py\"\n",
    "part3 = \"!\"\n",
    "\n",
    "# Construct the short word\n",
    "short_word = part1 + part2 + part3\n",
    "\n",
    "# Print the short word\n",
    "print(short_word)  \n"
   ]
  },
  {
   "cell_type": "code",
   "execution_count": 60,
   "id": "77f165b4",
   "metadata": {},
   "outputs": [],
   "source": [
    "part1 = \"Hap\""
   ]
  },
  {
   "cell_type": "code",
   "execution_count": 61,
   "id": "3813a7c9",
   "metadata": {},
   "outputs": [],
   "source": [
    "part2 = \"py\""
   ]
  },
  {
   "cell_type": "code",
   "execution_count": 62,
   "id": "4363407d",
   "metadata": {},
   "outputs": [],
   "source": [
    "part3 = \"!\""
   ]
  },
  {
   "cell_type": "code",
   "execution_count": 63,
   "id": "e463d678",
   "metadata": {},
   "outputs": [],
   "source": [
    "short_word = part1 + part2 + part3"
   ]
  },
  {
   "cell_type": "code",
   "execution_count": 64,
   "id": "d135ee61",
   "metadata": {},
   "outputs": [
    {
     "name": "stdout",
     "output_type": "stream",
     "text": [
      "Happy!\n"
     ]
    }
   ],
   "source": [
    "print(short_word)"
   ]
  },
  {
   "cell_type": "markdown",
   "id": "11e850d9",
   "metadata": {},
   "source": [
    "# Construct 2 short sentences made of separate strings"
   ]
  },
  {
   "cell_type": "markdown",
   "id": "7d40aac3",
   "metadata": {},
   "source": [
    "# Separate strings\n",
    "subject = \"Python\"\n",
    "verb = \"is\"\n",
    "adjective = \"awesome\"\n",
    "punctuation = \".\"\n",
    "\n",
    "# Construct the first sentence\n",
    "sentence1 = subject + \" \" + verb + \" \" + adjective + punctuation\n",
    "\n",
    "# Construct the second sentence\n",
    "sentence2 = \"I love \" + subject + \" programming\" + punctuation\n",
    "\n",
    "# Print the sentences\n",
    "print(sentence1)  \n",
    "print(sentence2)  \n"
   ]
  },
  {
   "cell_type": "code",
   "execution_count": 65,
   "id": "8dab3eef",
   "metadata": {},
   "outputs": [],
   "source": [
    "subject = \"Python\""
   ]
  },
  {
   "cell_type": "code",
   "execution_count": 66,
   "id": "5bc12dea",
   "metadata": {},
   "outputs": [],
   "source": [
    "verb = \"is\""
   ]
  },
  {
   "cell_type": "code",
   "execution_count": 67,
   "id": "9f95e46f",
   "metadata": {},
   "outputs": [],
   "source": [
    "adjective = \"awesome\""
   ]
  },
  {
   "cell_type": "code",
   "execution_count": 68,
   "id": "0fc7bb88",
   "metadata": {},
   "outputs": [],
   "source": [
    "punctuation = \".\""
   ]
  },
  {
   "cell_type": "code",
   "execution_count": 75,
   "id": "10700c65",
   "metadata": {},
   "outputs": [],
   "source": [
    "sentence1 = subject + \" \" + verb + \" \" + adjective + punctuation"
   ]
  },
  {
   "cell_type": "code",
   "execution_count": 76,
   "id": "31acd734",
   "metadata": {},
   "outputs": [
    {
     "name": "stdout",
     "output_type": "stream",
     "text": [
      "Python is awesome.\n"
     ]
    }
   ],
   "source": [
    "print(sentence1)"
   ]
  },
  {
   "cell_type": "code",
   "execution_count": 77,
   "id": "1d57d6cc",
   "metadata": {},
   "outputs": [],
   "source": [
    "sentence2 = \"I love \" + subject + \" programming\" + punctuation"
   ]
  },
  {
   "cell_type": "code",
   "execution_count": 78,
   "id": "fafa254b",
   "metadata": {},
   "outputs": [
    {
     "name": "stdout",
     "output_type": "stream",
     "text": [
      "I love Python programming.\n"
     ]
    }
   ],
   "source": [
    "print(sentence2)"
   ]
  },
  {
   "cell_type": "code",
   "execution_count": 15,
   "id": "d717388d",
   "metadata": {},
   "outputs": [],
   "source": [
    "z='Brazil'"
   ]
  },
  {
   "cell_type": "code",
   "execution_count": 16,
   "id": "29719966",
   "metadata": {},
   "outputs": [
    {
     "data": {
      "text/plain": [
       "str"
      ]
     },
     "execution_count": 16,
     "metadata": {},
     "output_type": "execute_result"
    }
   ],
   "source": [
    "type(z)"
   ]
  },
  {
   "cell_type": "code",
   "execution_count": 18,
   "id": "858b039a",
   "metadata": {},
   "outputs": [
    {
     "data": {
      "text/plain": [
       "str"
      ]
     },
     "execution_count": 18,
     "metadata": {},
     "output_type": "execute_result"
    }
   ],
   "source": [
    "type('true')"
   ]
  },
  {
   "cell_type": "code",
   "execution_count": 31,
   "id": "df80b411",
   "metadata": {},
   "outputs": [],
   "source": [
    "a='Hello, '"
   ]
  },
  {
   "cell_type": "code",
   "execution_count": 29,
   "id": "26092a4a",
   "metadata": {},
   "outputs": [],
   "source": [
    "b= 'Martin'"
   ]
  },
  {
   "cell_type": "code",
   "execution_count": 32,
   "id": "04f44d0f",
   "metadata": {},
   "outputs": [
    {
     "data": {
      "text/plain": [
       "'Hello, Martin'"
      ]
     },
     "execution_count": 32,
     "metadata": {},
     "output_type": "execute_result"
    }
   ],
   "source": [
    "a+b"
   ]
  },
  {
   "cell_type": "code",
   "execution_count": 34,
   "id": "2792e8a8",
   "metadata": {},
   "outputs": [],
   "source": [
    "n='potato'"
   ]
  },
  {
   "cell_type": "code",
   "execution_count": 35,
   "id": "9d425620",
   "metadata": {},
   "outputs": [
    {
     "data": {
      "text/plain": [
       "'potatopotatopotatopotatopotatopotatopotatopotatopotatopotatopotatopotato'"
      ]
     },
     "execution_count": 35,
     "metadata": {},
     "output_type": "execute_result"
    }
   ],
   "source": [
    "n*12"
   ]
  },
  {
   "cell_type": "markdown",
   "id": "500f9e96",
   "metadata": {},
   "source": [
    "#. Boolean"
   ]
  },
  {
   "cell_type": "code",
   "execution_count": 19,
   "id": "852d7372",
   "metadata": {},
   "outputs": [
    {
     "data": {
      "text/plain": [
       "bool"
      ]
     },
     "execution_count": 19,
     "metadata": {},
     "output_type": "execute_result"
    }
   ],
   "source": [
    "type(True)"
   ]
  },
  {
   "cell_type": "code",
   "execution_count": 20,
   "id": "f21da456",
   "metadata": {},
   "outputs": [
    {
     "data": {
      "text/plain": [
       "bool"
      ]
     },
     "execution_count": 20,
     "metadata": {},
     "output_type": "execute_result"
    }
   ],
   "source": [
    "type(False)"
   ]
  },
  {
   "cell_type": "code",
   "execution_count": 36,
   "id": "1b400c58",
   "metadata": {},
   "outputs": [
    {
     "data": {
      "text/plain": [
       "False"
      ]
     },
     "execution_count": 36,
     "metadata": {},
     "output_type": "execute_result"
    }
   ],
   "source": [
    "x==y"
   ]
  },
  {
   "cell_type": "code",
   "execution_count": 37,
   "id": "eefde739",
   "metadata": {},
   "outputs": [
    {
     "data": {
      "text/plain": [
       "bool"
      ]
     },
     "execution_count": 37,
     "metadata": {},
     "output_type": "execute_result"
    }
   ],
   "source": [
    "type(x==y)"
   ]
  }
 ],
 "metadata": {
  "kernelspec": {
   "display_name": "Python 3 (ipykernel)",
   "language": "python",
   "name": "python3"
  },
  "language_info": {
   "codemirror_mode": {
    "name": "ipython",
    "version": 3
   },
   "file_extension": ".py",
   "mimetype": "text/x-python",
   "name": "python",
   "nbconvert_exporter": "python",
   "pygments_lexer": "ipython3",
   "version": "3.11.4"
  }
 },
 "nbformat": 4,
 "nbformat_minor": 5
}
