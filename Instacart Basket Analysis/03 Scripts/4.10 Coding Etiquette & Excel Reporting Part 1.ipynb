{
 "cells": [
  {
   "cell_type": "markdown",
   "id": "8c733cb9",
   "metadata": {},
   "source": [
    "# Importing Libraries"
   ]
  },
  {
   "cell_type": "code",
   "execution_count": 1,
   "id": "bd4a0059",
   "metadata": {},
   "outputs": [],
   "source": [
    "import pandas as pd\n",
    "import numpy as np\n",
    "import os\n",
    "import matplotlib.pyplot as plt\n",
    "import seaborn as sns\n",
    "import scipy"
   ]
  },
  {
   "cell_type": "markdown",
   "id": "92061328",
   "metadata": {},
   "source": [
    "# Importing Data"
   ]
  },
  {
   "cell_type": "code",
   "execution_count": 2,
   "id": "125f9be2",
   "metadata": {},
   "outputs": [],
   "source": [
    "# Creating a Path\n",
    "path = r'/Users/jacob/Desktop/Instacart Basket Analysis'"
   ]
  },
  {
   "cell_type": "code",
   "execution_count": 3,
   "id": "886b842b",
   "metadata": {},
   "outputs": [],
   "source": [
    "# Importing df_ords_prods_customers\n",
    "df_ords_prods_customers = pd.read_pickle(os.path.join(path, '02 Data', 'Prepared Data', 'ords_prods_customers_merged.pkl'))"
   ]
  },
  {
   "cell_type": "markdown",
   "id": "a4a8142e",
   "metadata": {},
   "source": [
    "# Task 4.10"
   ]
  },
  {
   "cell_type": "markdown",
   "id": "8f457df3",
   "metadata": {},
   "source": [
    "## 2. Consider any security implications that might exist for this new data. You’ll need to address any PII data in the data before continuing your analysis.\n"
   ]
  },
  {
   "cell_type": "code",
   "execution_count": 4,
   "id": "a955ebda",
   "metadata": {},
   "outputs": [
    {
     "data": {
      "text/html": [
       "<div>\n",
       "<style scoped>\n",
       "    .dataframe tbody tr th:only-of-type {\n",
       "        vertical-align: middle;\n",
       "    }\n",
       "\n",
       "    .dataframe tbody tr th {\n",
       "        vertical-align: top;\n",
       "    }\n",
       "\n",
       "    .dataframe thead th {\n",
       "        text-align: right;\n",
       "    }\n",
       "</style>\n",
       "<table border=\"1\" class=\"dataframe\">\n",
       "  <thead>\n",
       "    <tr style=\"text-align: right;\">\n",
       "      <th></th>\n",
       "      <th>user_id</th>\n",
       "      <th>first_name</th>\n",
       "      <th>last_name</th>\n",
       "      <th>gender</th>\n",
       "      <th>state</th>\n",
       "      <th>age</th>\n",
       "      <th>date_joined</th>\n",
       "      <th>number_of_dependants</th>\n",
       "      <th>fam_status</th>\n",
       "      <th>income</th>\n",
       "      <th>...</th>\n",
       "      <th>price_range_loc</th>\n",
       "      <th>busiest_day</th>\n",
       "      <th>busiest_days</th>\n",
       "      <th>busiest_period_of_day</th>\n",
       "      <th>max_order</th>\n",
       "      <th>loyalty_flag</th>\n",
       "      <th>average_price</th>\n",
       "      <th>spending_flag</th>\n",
       "      <th>median_prior_orders</th>\n",
       "      <th>order_frequency_flag</th>\n",
       "    </tr>\n",
       "  </thead>\n",
       "  <tbody>\n",
       "    <tr>\n",
       "      <th>1</th>\n",
       "      <td>33890</td>\n",
       "      <td>Patricia</td>\n",
       "      <td>Hart</td>\n",
       "      <td>Female</td>\n",
       "      <td>New Mexico</td>\n",
       "      <td>36</td>\n",
       "      <td>1/1/2017</td>\n",
       "      <td>0</td>\n",
       "      <td>single</td>\n",
       "      <td>59285</td>\n",
       "      <td>...</td>\n",
       "      <td>Mid-range product</td>\n",
       "      <td>Regularly busy</td>\n",
       "      <td>Busiest days</td>\n",
       "      <td>Average orders</td>\n",
       "      <td>12</td>\n",
       "      <td>Regular customer</td>\n",
       "      <td>7.057534</td>\n",
       "      <td>Low spender</td>\n",
       "      <td>26.0</td>\n",
       "      <td>Non-frequent customer</td>\n",
       "    </tr>\n",
       "    <tr>\n",
       "      <th>2</th>\n",
       "      <td>33890</td>\n",
       "      <td>Patricia</td>\n",
       "      <td>Hart</td>\n",
       "      <td>Female</td>\n",
       "      <td>New Mexico</td>\n",
       "      <td>36</td>\n",
       "      <td>1/1/2017</td>\n",
       "      <td>0</td>\n",
       "      <td>single</td>\n",
       "      <td>59285</td>\n",
       "      <td>...</td>\n",
       "      <td>Mid-range product</td>\n",
       "      <td>Regularly busy</td>\n",
       "      <td>Regularly busy</td>\n",
       "      <td>Average orders</td>\n",
       "      <td>12</td>\n",
       "      <td>Regular customer</td>\n",
       "      <td>7.057534</td>\n",
       "      <td>Low spender</td>\n",
       "      <td>26.0</td>\n",
       "      <td>Non-frequent customer</td>\n",
       "    </tr>\n",
       "    <tr>\n",
       "      <th>3</th>\n",
       "      <td>33890</td>\n",
       "      <td>Patricia</td>\n",
       "      <td>Hart</td>\n",
       "      <td>Female</td>\n",
       "      <td>New Mexico</td>\n",
       "      <td>36</td>\n",
       "      <td>1/1/2017</td>\n",
       "      <td>0</td>\n",
       "      <td>single</td>\n",
       "      <td>59285</td>\n",
       "      <td>...</td>\n",
       "      <td>Mid-range product</td>\n",
       "      <td>Regularly busy</td>\n",
       "      <td>Regularly busy</td>\n",
       "      <td>Most orders</td>\n",
       "      <td>12</td>\n",
       "      <td>Regular customer</td>\n",
       "      <td>7.057534</td>\n",
       "      <td>Low spender</td>\n",
       "      <td>26.0</td>\n",
       "      <td>Non-frequent customer</td>\n",
       "    </tr>\n",
       "    <tr>\n",
       "      <th>4</th>\n",
       "      <td>33890</td>\n",
       "      <td>Patricia</td>\n",
       "      <td>Hart</td>\n",
       "      <td>Female</td>\n",
       "      <td>New Mexico</td>\n",
       "      <td>36</td>\n",
       "      <td>1/1/2017</td>\n",
       "      <td>0</td>\n",
       "      <td>single</td>\n",
       "      <td>59285</td>\n",
       "      <td>...</td>\n",
       "      <td>Mid-range product</td>\n",
       "      <td>Regularly busy</td>\n",
       "      <td>Regularly busy</td>\n",
       "      <td>Most orders</td>\n",
       "      <td>12</td>\n",
       "      <td>Regular customer</td>\n",
       "      <td>7.057534</td>\n",
       "      <td>Low spender</td>\n",
       "      <td>26.0</td>\n",
       "      <td>Non-frequent customer</td>\n",
       "    </tr>\n",
       "    <tr>\n",
       "      <th>5</th>\n",
       "      <td>33890</td>\n",
       "      <td>Patricia</td>\n",
       "      <td>Hart</td>\n",
       "      <td>Female</td>\n",
       "      <td>New Mexico</td>\n",
       "      <td>36</td>\n",
       "      <td>1/1/2017</td>\n",
       "      <td>0</td>\n",
       "      <td>single</td>\n",
       "      <td>59285</td>\n",
       "      <td>...</td>\n",
       "      <td>Mid-range product</td>\n",
       "      <td>Regularly busy</td>\n",
       "      <td>Regularly busy</td>\n",
       "      <td>Average orders</td>\n",
       "      <td>12</td>\n",
       "      <td>Regular customer</td>\n",
       "      <td>7.057534</td>\n",
       "      <td>Low spender</td>\n",
       "      <td>26.0</td>\n",
       "      <td>Non-frequent customer</td>\n",
       "    </tr>\n",
       "  </tbody>\n",
       "</table>\n",
       "<p>5 rows × 33 columns</p>\n",
       "</div>"
      ],
      "text/plain": [
       "   user_id first_name last_name  gender       state  age date_joined  \\\n",
       "1    33890   Patricia      Hart  Female  New Mexico   36    1/1/2017   \n",
       "2    33890   Patricia      Hart  Female  New Mexico   36    1/1/2017   \n",
       "3    33890   Patricia      Hart  Female  New Mexico   36    1/1/2017   \n",
       "4    33890   Patricia      Hart  Female  New Mexico   36    1/1/2017   \n",
       "5    33890   Patricia      Hart  Female  New Mexico   36    1/1/2017   \n",
       "\n",
       "   number_of_dependants fam_status  income  ...    price_range_loc  \\\n",
       "1                     0     single   59285  ...  Mid-range product   \n",
       "2                     0     single   59285  ...  Mid-range product   \n",
       "3                     0     single   59285  ...  Mid-range product   \n",
       "4                     0     single   59285  ...  Mid-range product   \n",
       "5                     0     single   59285  ...  Mid-range product   \n",
       "\n",
       "      busiest_day    busiest_days  busiest_period_of_day  max_order  \\\n",
       "1  Regularly busy    Busiest days         Average orders         12   \n",
       "2  Regularly busy  Regularly busy         Average orders         12   \n",
       "3  Regularly busy  Regularly busy            Most orders         12   \n",
       "4  Regularly busy  Regularly busy            Most orders         12   \n",
       "5  Regularly busy  Regularly busy         Average orders         12   \n",
       "\n",
       "       loyalty_flag  average_price  spending_flag median_prior_orders  \\\n",
       "1  Regular customer       7.057534    Low spender                26.0   \n",
       "2  Regular customer       7.057534    Low spender                26.0   \n",
       "3  Regular customer       7.057534    Low spender                26.0   \n",
       "4  Regular customer       7.057534    Low spender                26.0   \n",
       "5  Regular customer       7.057534    Low spender                26.0   \n",
       "\n",
       "    order_frequency_flag  \n",
       "1  Non-frequent customer  \n",
       "2  Non-frequent customer  \n",
       "3  Non-frequent customer  \n",
       "4  Non-frequent customer  \n",
       "5  Non-frequent customer  \n",
       "\n",
       "[5 rows x 33 columns]"
      ]
     },
     "execution_count": 4,
     "metadata": {},
     "output_type": "execute_result"
    }
   ],
   "source": [
    "df_ords_prods_customers.head()"
   ]
  },
  {
   "cell_type": "code",
   "execution_count": 5,
   "id": "59aef5c7",
   "metadata": {},
   "outputs": [],
   "source": [
    "# Dropping 'first_name' and 'surname' columns to remove PII\n",
    "\n",
    "columns_to_drop = ['first_name', 'last_name']"
   ]
  },
  {
   "cell_type": "code",
   "execution_count": 6,
   "id": "1ba30de1",
   "metadata": {},
   "outputs": [],
   "source": [
    "df_ords_prods_customers = df_ords_prods_customers.drop(columns = columns_to_drop)"
   ]
  },
  {
   "cell_type": "code",
   "execution_count": 8,
   "id": "a5c3ccac",
   "metadata": {},
   "outputs": [
    {
     "data": {
      "text/html": [
       "<div>\n",
       "<style scoped>\n",
       "    .dataframe tbody tr th:only-of-type {\n",
       "        vertical-align: middle;\n",
       "    }\n",
       "\n",
       "    .dataframe tbody tr th {\n",
       "        vertical-align: top;\n",
       "    }\n",
       "\n",
       "    .dataframe thead th {\n",
       "        text-align: right;\n",
       "    }\n",
       "</style>\n",
       "<table border=\"1\" class=\"dataframe\">\n",
       "  <thead>\n",
       "    <tr style=\"text-align: right;\">\n",
       "      <th></th>\n",
       "      <th>user_id</th>\n",
       "      <th>gender</th>\n",
       "      <th>state</th>\n",
       "      <th>age</th>\n",
       "      <th>date_joined</th>\n",
       "      <th>number_of_dependants</th>\n",
       "      <th>fam_status</th>\n",
       "      <th>income</th>\n",
       "      <th>order_id</th>\n",
       "      <th>order_number</th>\n",
       "      <th>...</th>\n",
       "      <th>price_range_loc</th>\n",
       "      <th>busiest_day</th>\n",
       "      <th>busiest_days</th>\n",
       "      <th>busiest_period_of_day</th>\n",
       "      <th>max_order</th>\n",
       "      <th>loyalty_flag</th>\n",
       "      <th>average_price</th>\n",
       "      <th>spending_flag</th>\n",
       "      <th>median_prior_orders</th>\n",
       "      <th>order_frequency_flag</th>\n",
       "    </tr>\n",
       "  </thead>\n",
       "  <tbody>\n",
       "    <tr>\n",
       "      <th>1</th>\n",
       "      <td>33890</td>\n",
       "      <td>Female</td>\n",
       "      <td>New Mexico</td>\n",
       "      <td>36</td>\n",
       "      <td>1/1/2017</td>\n",
       "      <td>0</td>\n",
       "      <td>single</td>\n",
       "      <td>59285</td>\n",
       "      <td>474720</td>\n",
       "      <td>4</td>\n",
       "      <td>...</td>\n",
       "      <td>Mid-range product</td>\n",
       "      <td>Regularly busy</td>\n",
       "      <td>Busiest days</td>\n",
       "      <td>Average orders</td>\n",
       "      <td>12</td>\n",
       "      <td>Regular customer</td>\n",
       "      <td>7.057534</td>\n",
       "      <td>Low spender</td>\n",
       "      <td>26.0</td>\n",
       "      <td>Non-frequent customer</td>\n",
       "    </tr>\n",
       "    <tr>\n",
       "      <th>2</th>\n",
       "      <td>33890</td>\n",
       "      <td>Female</td>\n",
       "      <td>New Mexico</td>\n",
       "      <td>36</td>\n",
       "      <td>1/1/2017</td>\n",
       "      <td>0</td>\n",
       "      <td>single</td>\n",
       "      <td>59285</td>\n",
       "      <td>896617</td>\n",
       "      <td>5</td>\n",
       "      <td>...</td>\n",
       "      <td>Mid-range product</td>\n",
       "      <td>Regularly busy</td>\n",
       "      <td>Regularly busy</td>\n",
       "      <td>Average orders</td>\n",
       "      <td>12</td>\n",
       "      <td>Regular customer</td>\n",
       "      <td>7.057534</td>\n",
       "      <td>Low spender</td>\n",
       "      <td>26.0</td>\n",
       "      <td>Non-frequent customer</td>\n",
       "    </tr>\n",
       "    <tr>\n",
       "      <th>3</th>\n",
       "      <td>33890</td>\n",
       "      <td>Female</td>\n",
       "      <td>New Mexico</td>\n",
       "      <td>36</td>\n",
       "      <td>1/1/2017</td>\n",
       "      <td>0</td>\n",
       "      <td>single</td>\n",
       "      <td>59285</td>\n",
       "      <td>122641</td>\n",
       "      <td>2</td>\n",
       "      <td>...</td>\n",
       "      <td>Mid-range product</td>\n",
       "      <td>Regularly busy</td>\n",
       "      <td>Regularly busy</td>\n",
       "      <td>Most orders</td>\n",
       "      <td>12</td>\n",
       "      <td>Regular customer</td>\n",
       "      <td>7.057534</td>\n",
       "      <td>Low spender</td>\n",
       "      <td>26.0</td>\n",
       "      <td>Non-frequent customer</td>\n",
       "    </tr>\n",
       "    <tr>\n",
       "      <th>4</th>\n",
       "      <td>33890</td>\n",
       "      <td>Female</td>\n",
       "      <td>New Mexico</td>\n",
       "      <td>36</td>\n",
       "      <td>1/1/2017</td>\n",
       "      <td>0</td>\n",
       "      <td>single</td>\n",
       "      <td>59285</td>\n",
       "      <td>1044841</td>\n",
       "      <td>3</td>\n",
       "      <td>...</td>\n",
       "      <td>Mid-range product</td>\n",
       "      <td>Regularly busy</td>\n",
       "      <td>Regularly busy</td>\n",
       "      <td>Most orders</td>\n",
       "      <td>12</td>\n",
       "      <td>Regular customer</td>\n",
       "      <td>7.057534</td>\n",
       "      <td>Low spender</td>\n",
       "      <td>26.0</td>\n",
       "      <td>Non-frequent customer</td>\n",
       "    </tr>\n",
       "    <tr>\n",
       "      <th>5</th>\n",
       "      <td>33890</td>\n",
       "      <td>Female</td>\n",
       "      <td>New Mexico</td>\n",
       "      <td>36</td>\n",
       "      <td>1/1/2017</td>\n",
       "      <td>0</td>\n",
       "      <td>single</td>\n",
       "      <td>59285</td>\n",
       "      <td>896617</td>\n",
       "      <td>5</td>\n",
       "      <td>...</td>\n",
       "      <td>Mid-range product</td>\n",
       "      <td>Regularly busy</td>\n",
       "      <td>Regularly busy</td>\n",
       "      <td>Average orders</td>\n",
       "      <td>12</td>\n",
       "      <td>Regular customer</td>\n",
       "      <td>7.057534</td>\n",
       "      <td>Low spender</td>\n",
       "      <td>26.0</td>\n",
       "      <td>Non-frequent customer</td>\n",
       "    </tr>\n",
       "  </tbody>\n",
       "</table>\n",
       "<p>5 rows × 31 columns</p>\n",
       "</div>"
      ],
      "text/plain": [
       "   user_id  gender       state  age date_joined  number_of_dependants  \\\n",
       "1    33890  Female  New Mexico   36    1/1/2017                     0   \n",
       "2    33890  Female  New Mexico   36    1/1/2017                     0   \n",
       "3    33890  Female  New Mexico   36    1/1/2017                     0   \n",
       "4    33890  Female  New Mexico   36    1/1/2017                     0   \n",
       "5    33890  Female  New Mexico   36    1/1/2017                     0   \n",
       "\n",
       "  fam_status  income  order_id  order_number  ...    price_range_loc  \\\n",
       "1     single   59285    474720             4  ...  Mid-range product   \n",
       "2     single   59285    896617             5  ...  Mid-range product   \n",
       "3     single   59285    122641             2  ...  Mid-range product   \n",
       "4     single   59285   1044841             3  ...  Mid-range product   \n",
       "5     single   59285    896617             5  ...  Mid-range product   \n",
       "\n",
       "      busiest_day    busiest_days  busiest_period_of_day  max_order  \\\n",
       "1  Regularly busy    Busiest days         Average orders         12   \n",
       "2  Regularly busy  Regularly busy         Average orders         12   \n",
       "3  Regularly busy  Regularly busy            Most orders         12   \n",
       "4  Regularly busy  Regularly busy            Most orders         12   \n",
       "5  Regularly busy  Regularly busy         Average orders         12   \n",
       "\n",
       "       loyalty_flag average_price  spending_flag  median_prior_orders  \\\n",
       "1  Regular customer      7.057534    Low spender                 26.0   \n",
       "2  Regular customer      7.057534    Low spender                 26.0   \n",
       "3  Regular customer      7.057534    Low spender                 26.0   \n",
       "4  Regular customer      7.057534    Low spender                 26.0   \n",
       "5  Regular customer      7.057534    Low spender                 26.0   \n",
       "\n",
       "    order_frequency_flag  \n",
       "1  Non-frequent customer  \n",
       "2  Non-frequent customer  \n",
       "3  Non-frequent customer  \n",
       "4  Non-frequent customer  \n",
       "5  Non-frequent customer  \n",
       "\n",
       "[5 rows x 31 columns]"
      ]
     },
     "execution_count": 8,
     "metadata": {},
     "output_type": "execute_result"
    }
   ],
   "source": [
    "# Print head of the new dataframe\n",
    "df_ords_prods_customers.head()"
   ]
  },
  {
   "cell_type": "code",
   "execution_count": 9,
   "id": "e0831900",
   "metadata": {},
   "outputs": [
    {
     "data": {
      "text/plain": [
       "(32404840, 31)"
      ]
     },
     "execution_count": 9,
     "metadata": {},
     "output_type": "execute_result"
    }
   ],
   "source": [
    "# Shape of the new dataframe\n",
    "df_ords_prods_customers.shape"
   ]
  },
  {
   "cell_type": "markdown",
   "id": "616f2fd1",
   "metadata": {},
   "source": [
    "## 3. Creating a regional segmentation of the data & Analizing regional spending habits. "
   ]
  },
  {
   "cell_type": "code",
   "execution_count": 10,
   "id": "d7353d42",
   "metadata": {},
   "outputs": [],
   "source": [
    "# Defining the Regions\n",
    "\n",
    "Northeast = ['Maine', 'New Hampshire', 'Vermont', 'Massachusetts', 'Rhode Island', 'Connecticut', 'New York', 'Pennsylvania', 'New Jersey']\n",
    "Midwest = ['Wisconsin', 'Michigan', 'Illinois', 'Indiana', 'Ohio', 'North Dakota', 'South Dakota', 'Nebraska', 'Kansas', 'Minnesota', 'Iowa', 'Missouri']\n",
    "South = ['Delaware', 'Maryland', 'District of Columbia', 'Virginia', 'West Virginia', 'North Carolina', 'South Carolina', 'Georgia', 'Florida', 'Kentucky', 'Tennessee', 'Mississippi', 'Alabama', 'Oklahoma', 'Texas', 'Arkansas', 'Louisiana']\n",
    "West = ['Idaho', 'Montana', 'Wyoming', 'Nevada', 'Utah', 'Colorado', 'Arizona', 'New Mexico', 'Alaska', 'Washington', 'Oregon', 'California', 'Hawaii']"
   ]
  },
  {
   "cell_type": "code",
   "execution_count": 11,
   "id": "0c5437f1",
   "metadata": {},
   "outputs": [],
   "source": [
    "# Assigning States in 'state' column to a region\n",
    "\n",
    "df_ords_prods_customers.loc[df_ords_prods_customers['state'].isin(Northeast), 'region'] = 'Northeast'\n",
    "df_ords_prods_customers.loc[df_ords_prods_customers['state'].isin(Midwest), 'region'] = 'Midwest'\n",
    "df_ords_prods_customers.loc[df_ords_prods_customers['state'].isin(South), 'region'] = 'South'\n",
    "df_ords_prods_customers.loc[df_ords_prods_customers['state'].isin(West), 'region'] = 'West'"
   ]
  },
  {
   "cell_type": "code",
   "execution_count": 12,
   "id": "fdc5c8e1",
   "metadata": {},
   "outputs": [
    {
     "data": {
      "text/plain": [
       "region\n",
       "South        10791885\n",
       "West          8292912\n",
       "Midwest       7597307\n",
       "Northeast     5722736\n",
       "Name: count, dtype: int64"
      ]
     },
     "execution_count": 12,
     "metadata": {},
     "output_type": "execute_result"
    }
   ],
   "source": [
    "# Checking the outcome\n",
    "\n",
    "df_ords_prods_customers['region'].value_counts(dropna = False)"
   ]
  },
  {
   "cell_type": "code",
   "execution_count": 13,
   "id": "5962435d",
   "metadata": {},
   "outputs": [
    {
     "data": {
      "text/plain": [
       "(32404840, 32)"
      ]
     },
     "execution_count": 13,
     "metadata": {},
     "output_type": "execute_result"
    }
   ],
   "source": [
    "df_ords_prods_customers.shape"
   ]
  },
  {
   "cell_type": "code",
   "execution_count": 15,
   "id": "680eb62d",
   "metadata": {},
   "outputs": [
    {
     "data": {
      "text/plain": [
       "Index(['user_id', 'gender', 'state', 'age', 'date_joined',\n",
       "       'number_of_dependants', 'fam_status', 'income', 'order_id',\n",
       "       'order_number', 'orders_day_of_week', 'order_hour_of_day',\n",
       "       'days_since_prior_order', 'product_id', 'add_to_cart_order',\n",
       "       'reordered', 'product_name', 'aisle_id', 'department_id', 'prices',\n",
       "       '_merge', 'price_range_loc', 'busiest_day', 'busiest_days',\n",
       "       'busiest_period_of_day', 'max_order', 'loyalty_flag', 'average_price',\n",
       "       'spending_flag', 'median_prior_orders', 'order_frequency_flag',\n",
       "       'region'],\n",
       "      dtype='object')"
      ]
     },
     "execution_count": 15,
     "metadata": {},
     "output_type": "execute_result"
    }
   ],
   "source": [
    "# Checking columns of the dataframe\n",
    "df_ords_prods_customers.columns"
   ]
  },
  {
   "cell_type": "code",
   "execution_count": 16,
   "id": "9fe9b98d",
   "metadata": {},
   "outputs": [],
   "source": [
    "# Checking for variations in spending habits by region \n",
    "\n",
    "crosstab = pd.crosstab(df_ords_prods_customers['region'], df_ords_prods_customers['spending_flag'], dropna = False)"
   ]
  },
  {
   "cell_type": "code",
   "execution_count": 17,
   "id": "73d1702e",
   "metadata": {},
   "outputs": [
    {
     "data": {
      "text/html": [
       "<div>\n",
       "<style scoped>\n",
       "    .dataframe tbody tr th:only-of-type {\n",
       "        vertical-align: middle;\n",
       "    }\n",
       "\n",
       "    .dataframe tbody tr th {\n",
       "        vertical-align: top;\n",
       "    }\n",
       "\n",
       "    .dataframe thead th {\n",
       "        text-align: right;\n",
       "    }\n",
       "</style>\n",
       "<table border=\"1\" class=\"dataframe\">\n",
       "  <thead>\n",
       "    <tr style=\"text-align: right;\">\n",
       "      <th>spending_flag</th>\n",
       "      <th>High spender</th>\n",
       "      <th>Low spender</th>\n",
       "    </tr>\n",
       "    <tr>\n",
       "      <th>region</th>\n",
       "      <th></th>\n",
       "      <th></th>\n",
       "    </tr>\n",
       "  </thead>\n",
       "  <tbody>\n",
       "    <tr>\n",
       "      <th>Midwest</th>\n",
       "      <td>29265</td>\n",
       "      <td>7568042</td>\n",
       "    </tr>\n",
       "    <tr>\n",
       "      <th>Northeast</th>\n",
       "      <td>18642</td>\n",
       "      <td>5704094</td>\n",
       "    </tr>\n",
       "    <tr>\n",
       "      <th>South</th>\n",
       "      <td>40579</td>\n",
       "      <td>10751306</td>\n",
       "    </tr>\n",
       "    <tr>\n",
       "      <th>West</th>\n",
       "      <td>31242</td>\n",
       "      <td>8261670</td>\n",
       "    </tr>\n",
       "  </tbody>\n",
       "</table>\n",
       "</div>"
      ],
      "text/plain": [
       "spending_flag  High spender  Low spender\n",
       "region                                  \n",
       "Midwest               29265      7568042\n",
       "Northeast             18642      5704094\n",
       "South                 40579     10751306\n",
       "West                  31242      8261670"
      ]
     },
     "execution_count": 17,
     "metadata": {},
     "output_type": "execute_result"
    }
   ],
   "source": [
    "# Printing output\n",
    "crosstab"
   ]
  },
  {
   "cell_type": "markdown",
   "id": "1c31cf8c",
   "metadata": {},
   "source": [
    "### Regional spending habits exhibit minimal variation with the existing distinction between individuals who spend a lot and those who spend less. The distribution of high and low spenders within each region closely resembles one another."
   ]
  },
  {
   "cell_type": "markdown",
   "id": "0dc2638e",
   "metadata": {},
   "source": [
    "## 4. Creating an exclusion flag for low-activity customers (customers with less than 5 orders)."
   ]
  },
  {
   "cell_type": "code",
   "execution_count": 18,
   "id": "70861e60",
   "metadata": {},
   "outputs": [],
   "source": [
    "# Create a flag for customers with less than 5 orders\n",
    "\n",
    "df_ords_prods_customers.loc[df_ords_prods_customers['max_order'] < 5, 'customer_activity'] = 'low activity'"
   ]
  },
  {
   "cell_type": "code",
   "execution_count": 19,
   "id": "c42161af",
   "metadata": {},
   "outputs": [],
   "source": [
    "# Creating a flag for customers with 5 orders or more\n",
    "\n",
    "df_ords_prods_customers.loc[df_ords_prods_customers['max_order'] >= 5, 'customer_activity'] = 'high activity'"
   ]
  },
  {
   "cell_type": "code",
   "execution_count": 20,
   "id": "859d0589",
   "metadata": {},
   "outputs": [
    {
     "data": {
      "text/plain": [
       "customer_activity\n",
       "high activity    30964545\n",
       "low activity      1440295\n",
       "Name: count, dtype: int64"
      ]
     },
     "execution_count": 20,
     "metadata": {},
     "output_type": "execute_result"
    }
   ],
   "source": [
    "# Cheking the output\n",
    "df_ords_prods_customers['customer_activity'].value_counts(dropna = False)"
   ]
  },
  {
   "cell_type": "code",
   "execution_count": 21,
   "id": "29a81a40",
   "metadata": {},
   "outputs": [],
   "source": [
    "# Assigning low activity customers to new dataframe\n",
    "\n",
    "low_activity_customers = df_ords_prods_customers[df_ords_prods_customers['customer_activity'] == 'low activity']"
   ]
  },
  {
   "cell_type": "code",
   "execution_count": 22,
   "id": "caf3163a",
   "metadata": {},
   "outputs": [
    {
     "data": {
      "text/html": [
       "<div>\n",
       "<style scoped>\n",
       "    .dataframe tbody tr th:only-of-type {\n",
       "        vertical-align: middle;\n",
       "    }\n",
       "\n",
       "    .dataframe tbody tr th {\n",
       "        vertical-align: top;\n",
       "    }\n",
       "\n",
       "    .dataframe thead th {\n",
       "        text-align: right;\n",
       "    }\n",
       "</style>\n",
       "<table border=\"1\" class=\"dataframe\">\n",
       "  <thead>\n",
       "    <tr style=\"text-align: right;\">\n",
       "      <th></th>\n",
       "      <th>user_id</th>\n",
       "      <th>gender</th>\n",
       "      <th>state</th>\n",
       "      <th>age</th>\n",
       "      <th>date_joined</th>\n",
       "      <th>number_of_dependants</th>\n",
       "      <th>fam_status</th>\n",
       "      <th>income</th>\n",
       "      <th>order_id</th>\n",
       "      <th>order_number</th>\n",
       "      <th>...</th>\n",
       "      <th>busiest_days</th>\n",
       "      <th>busiest_period_of_day</th>\n",
       "      <th>max_order</th>\n",
       "      <th>loyalty_flag</th>\n",
       "      <th>average_price</th>\n",
       "      <th>spending_flag</th>\n",
       "      <th>median_prior_orders</th>\n",
       "      <th>order_frequency_flag</th>\n",
       "      <th>region</th>\n",
       "      <th>customer_activity</th>\n",
       "    </tr>\n",
       "  </thead>\n",
       "  <tbody>\n",
       "    <tr>\n",
       "      <th>711</th>\n",
       "      <td>168851</td>\n",
       "      <td>Male</td>\n",
       "      <td>South Carolina</td>\n",
       "      <td>30</td>\n",
       "      <td>1/1/2017</td>\n",
       "      <td>0</td>\n",
       "      <td>single</td>\n",
       "      <td>63712</td>\n",
       "      <td>1903574</td>\n",
       "      <td>1</td>\n",
       "      <td>...</td>\n",
       "      <td>Regularly busy</td>\n",
       "      <td>Average orders</td>\n",
       "      <td>3</td>\n",
       "      <td>New customer</td>\n",
       "      <td>7.485714</td>\n",
       "      <td>Low spender</td>\n",
       "      <td>20.5</td>\n",
       "      <td>Non-frequent customer</td>\n",
       "      <td>South</td>\n",
       "      <td>low activity</td>\n",
       "    </tr>\n",
       "    <tr>\n",
       "      <th>712</th>\n",
       "      <td>168851</td>\n",
       "      <td>Male</td>\n",
       "      <td>South Carolina</td>\n",
       "      <td>30</td>\n",
       "      <td>1/1/2017</td>\n",
       "      <td>0</td>\n",
       "      <td>single</td>\n",
       "      <td>63712</td>\n",
       "      <td>1193140</td>\n",
       "      <td>2</td>\n",
       "      <td>...</td>\n",
       "      <td>Slowest days</td>\n",
       "      <td>Most orders</td>\n",
       "      <td>3</td>\n",
       "      <td>New customer</td>\n",
       "      <td>7.485714</td>\n",
       "      <td>Low spender</td>\n",
       "      <td>20.5</td>\n",
       "      <td>Non-frequent customer</td>\n",
       "      <td>South</td>\n",
       "      <td>low activity</td>\n",
       "    </tr>\n",
       "    <tr>\n",
       "      <th>713</th>\n",
       "      <td>168851</td>\n",
       "      <td>Male</td>\n",
       "      <td>South Carolina</td>\n",
       "      <td>30</td>\n",
       "      <td>1/1/2017</td>\n",
       "      <td>0</td>\n",
       "      <td>single</td>\n",
       "      <td>63712</td>\n",
       "      <td>1870356</td>\n",
       "      <td>3</td>\n",
       "      <td>...</td>\n",
       "      <td>Busiest days</td>\n",
       "      <td>Average orders</td>\n",
       "      <td>3</td>\n",
       "      <td>New customer</td>\n",
       "      <td>7.485714</td>\n",
       "      <td>Low spender</td>\n",
       "      <td>20.5</td>\n",
       "      <td>Non-frequent customer</td>\n",
       "      <td>South</td>\n",
       "      <td>low activity</td>\n",
       "    </tr>\n",
       "    <tr>\n",
       "      <th>714</th>\n",
       "      <td>168851</td>\n",
       "      <td>Male</td>\n",
       "      <td>South Carolina</td>\n",
       "      <td>30</td>\n",
       "      <td>1/1/2017</td>\n",
       "      <td>0</td>\n",
       "      <td>single</td>\n",
       "      <td>63712</td>\n",
       "      <td>1903574</td>\n",
       "      <td>1</td>\n",
       "      <td>...</td>\n",
       "      <td>Regularly busy</td>\n",
       "      <td>Average orders</td>\n",
       "      <td>3</td>\n",
       "      <td>New customer</td>\n",
       "      <td>7.485714</td>\n",
       "      <td>Low spender</td>\n",
       "      <td>20.5</td>\n",
       "      <td>Non-frequent customer</td>\n",
       "      <td>South</td>\n",
       "      <td>low activity</td>\n",
       "    </tr>\n",
       "    <tr>\n",
       "      <th>715</th>\n",
       "      <td>168851</td>\n",
       "      <td>Male</td>\n",
       "      <td>South Carolina</td>\n",
       "      <td>30</td>\n",
       "      <td>1/1/2017</td>\n",
       "      <td>0</td>\n",
       "      <td>single</td>\n",
       "      <td>63712</td>\n",
       "      <td>1193140</td>\n",
       "      <td>2</td>\n",
       "      <td>...</td>\n",
       "      <td>Slowest days</td>\n",
       "      <td>Most orders</td>\n",
       "      <td>3</td>\n",
       "      <td>New customer</td>\n",
       "      <td>7.485714</td>\n",
       "      <td>Low spender</td>\n",
       "      <td>20.5</td>\n",
       "      <td>Non-frequent customer</td>\n",
       "      <td>South</td>\n",
       "      <td>low activity</td>\n",
       "    </tr>\n",
       "  </tbody>\n",
       "</table>\n",
       "<p>5 rows × 33 columns</p>\n",
       "</div>"
      ],
      "text/plain": [
       "     user_id gender           state  age date_joined  number_of_dependants  \\\n",
       "711   168851   Male  South Carolina   30    1/1/2017                     0   \n",
       "712   168851   Male  South Carolina   30    1/1/2017                     0   \n",
       "713   168851   Male  South Carolina   30    1/1/2017                     0   \n",
       "714   168851   Male  South Carolina   30    1/1/2017                     0   \n",
       "715   168851   Male  South Carolina   30    1/1/2017                     0   \n",
       "\n",
       "    fam_status  income  order_id  order_number  ...    busiest_days  \\\n",
       "711     single   63712   1903574             1  ...  Regularly busy   \n",
       "712     single   63712   1193140             2  ...    Slowest days   \n",
       "713     single   63712   1870356             3  ...    Busiest days   \n",
       "714     single   63712   1903574             1  ...  Regularly busy   \n",
       "715     single   63712   1193140             2  ...    Slowest days   \n",
       "\n",
       "     busiest_period_of_day  max_order  loyalty_flag  average_price  \\\n",
       "711         Average orders          3  New customer       7.485714   \n",
       "712            Most orders          3  New customer       7.485714   \n",
       "713         Average orders          3  New customer       7.485714   \n",
       "714         Average orders          3  New customer       7.485714   \n",
       "715            Most orders          3  New customer       7.485714   \n",
       "\n",
       "     spending_flag median_prior_orders   order_frequency_flag  region  \\\n",
       "711    Low spender                20.5  Non-frequent customer   South   \n",
       "712    Low spender                20.5  Non-frequent customer   South   \n",
       "713    Low spender                20.5  Non-frequent customer   South   \n",
       "714    Low spender                20.5  Non-frequent customer   South   \n",
       "715    Low spender                20.5  Non-frequent customer   South   \n",
       "\n",
       "     customer_activity  \n",
       "711       low activity  \n",
       "712       low activity  \n",
       "713       low activity  \n",
       "714       low activity  \n",
       "715       low activity  \n",
       "\n",
       "[5 rows x 33 columns]"
      ]
     },
     "execution_count": 22,
     "metadata": {},
     "output_type": "execute_result"
    }
   ],
   "source": [
    "# Checking the output\n",
    "\n",
    "low_activity_customers.head()"
   ]
  },
  {
   "cell_type": "code",
   "execution_count": 23,
   "id": "d1c65def",
   "metadata": {},
   "outputs": [
    {
     "data": {
      "text/plain": [
       "(1440295, 33)"
      ]
     },
     "execution_count": 23,
     "metadata": {},
     "output_type": "execute_result"
    }
   ],
   "source": [
    "low_activity_customers.shape"
   ]
  },
  {
   "cell_type": "code",
   "execution_count": 25,
   "id": "ebcd4b6a",
   "metadata": {},
   "outputs": [],
   "source": [
    "# Exporting and saving low_activity_customers dataframe\n",
    "\n",
    "low_activity_customers.to_pickle(os.path.join(path, '02 Data', 'Prepared Data', 'low_activity_customers.pkl'))"
   ]
  },
  {
   "cell_type": "code",
   "execution_count": 27,
   "id": "12780e49",
   "metadata": {},
   "outputs": [],
   "source": [
    "# Assigning high activity customers to new dataframe\n",
    "\n",
    "high_activity_customers = df_ords_prods_customers[df_ords_prods_customers['customer_activity'] == 'high activity']"
   ]
  },
  {
   "cell_type": "code",
   "execution_count": 28,
   "id": "cd22dc8f",
   "metadata": {},
   "outputs": [
    {
     "data": {
      "text/plain": [
       "(30964545, 33)"
      ]
     },
     "execution_count": 28,
     "metadata": {},
     "output_type": "execute_result"
    }
   ],
   "source": [
    "high_activity_customers.shape"
   ]
  },
  {
   "cell_type": "code",
   "execution_count": 29,
   "id": "04a6bd9d",
   "metadata": {},
   "outputs": [],
   "source": [
    "# Exporting and saving high_activity_customers dataframe\n",
    "\n",
    "high_activity_customers.to_pickle(os.path.join(path, '02 Data', 'Prepared Data', 'high_activity_customers.pkl'))"
   ]
  },
  {
   "cell_type": "markdown",
   "id": "ffa01d3d",
   "metadata": {},
   "source": [
    "# From now on we´re gonna use the high_activity_customers as our main dataframe"
   ]
  }
 ],
 "metadata": {
  "kernelspec": {
   "display_name": "Python 3 (ipykernel)",
   "language": "python",
   "name": "python3"
  },
  "language_info": {
   "codemirror_mode": {
    "name": "ipython",
    "version": 3
   },
   "file_extension": ".py",
   "mimetype": "text/x-python",
   "name": "python",
   "nbconvert_exporter": "python",
   "pygments_lexer": "ipython3",
   "version": "3.11.4"
  }
 },
 "nbformat": 4,
 "nbformat_minor": 5
}
