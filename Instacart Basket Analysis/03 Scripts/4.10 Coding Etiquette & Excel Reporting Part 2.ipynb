{
 "cells": [
  {
   "cell_type": "markdown",
   "id": "9823935e",
   "metadata": {},
   "source": [
    "# Importing Libraries"
   ]
  },
  {
   "cell_type": "code",
   "execution_count": 1,
   "id": "6803bc78",
   "metadata": {},
   "outputs": [],
   "source": [
    "import pandas as pd\n",
    "import numpy as np\n",
    "import os\n",
    "import matplotlib.pyplot as plt\n",
    "import seaborn as sns\n",
    "import scipy"
   ]
  },
  {
   "cell_type": "markdown",
   "id": "57dcb2a1",
   "metadata": {},
   "source": [
    "# Importing Data\n"
   ]
  },
  {
   "cell_type": "code",
   "execution_count": 2,
   "id": "afaa0f26",
   "metadata": {},
   "outputs": [],
   "source": [
    "# Creating a Path\n",
    "path = r'/Users/jacob/Desktop/Instacart Basket Analysis'"
   ]
  },
  {
   "cell_type": "code",
   "execution_count": 3,
   "id": "1ab779cd",
   "metadata": {},
   "outputs": [],
   "source": [
    "high_activity_customers = pd.read_pickle(os.path.join(path, '02 Data', 'Prepared Data', 'high_activity_customers.pkl'))"
   ]
  },
  {
   "cell_type": "markdown",
   "id": "8f59a273",
   "metadata": {},
   "source": [
    "## 5. Creating a profiling variable based on age, income, certain goods in the “department_id” column, and number of dependents. We will use the “orders_day_of_the_week” and “order_hour_of_day” columns because they might impact customer profiles."
   ]
  },
  {
   "cell_type": "markdown",
   "id": "5f828e17",
   "metadata": {},
   "source": [
    "## Age Groups"
   ]
  },
  {
   "cell_type": "code",
   "execution_count": 5,
   "id": "0bdcdd68",
   "metadata": {},
   "outputs": [
    {
     "data": {
      "text/plain": [
       "18"
      ]
     },
     "execution_count": 5,
     "metadata": {},
     "output_type": "execute_result"
    }
   ],
   "source": [
    "# Determining age groups and creating flag\n",
    "\n",
    "high_activity_customers['age'].min()"
   ]
  },
  {
   "cell_type": "code",
   "execution_count": 6,
   "id": "21311be6",
   "metadata": {},
   "outputs": [
    {
     "data": {
      "text/plain": [
       "81"
      ]
     },
     "execution_count": 6,
     "metadata": {},
     "output_type": "execute_result"
    }
   ],
   "source": [
    "# Determining age groups and creating flag\n",
    "\n",
    "high_activity_customers['age'].max()"
   ]
  },
  {
   "cell_type": "code",
   "execution_count": 7,
   "id": "2664d1a1",
   "metadata": {},
   "outputs": [],
   "source": [
    "# Creating a flag 'age_group'\n",
    "high_activity_customers.loc[high_activity_customers['age'] <= 29, 'age_group'] = '18-29'\n",
    "high_activity_customers.loc[(high_activity_customers['age'] > 29) & (high_activity_customers['age'] < 40), 'age_group'] = '30-39'\n",
    "high_activity_customers.loc[(high_activity_customers['age'] > 39) & (high_activity_customers['age'] < 50), 'age_group'] = '40-49'\n",
    "high_activity_customers.loc[(high_activity_customers['age'] > 49) & (high_activity_customers['age'] < 60), 'age_group'] = '50-59'\n",
    "high_activity_customers.loc[(high_activity_customers['age'] > 59) & (high_activity_customers['age'] < 70), 'age_group'] = '60-69'\n",
    "high_activity_customers.loc[high_activity_customers['age'] > 69, 'age_group'] = '70 and over'"
   ]
  },
  {
   "cell_type": "code",
   "execution_count": 8,
   "id": "9f9974a7",
   "metadata": {},
   "outputs": [
    {
     "data": {
      "text/plain": [
       "age_group\n",
       "18-29          5817603\n",
       "70 and over    5812883\n",
       "40-49          4883161\n",
       "30-39          4847506\n",
       "50-59          4841771\n",
       "60-69          4761621\n",
       "Name: count, dtype: int64"
      ]
     },
     "execution_count": 8,
     "metadata": {},
     "output_type": "execute_result"
    }
   ],
   "source": [
    "# Checking that total of column values equals total rows in pickle\n",
    "\n",
    "high_activity_customers['age_group'].value_counts(dropna = False)"
   ]
  },
  {
   "cell_type": "markdown",
   "id": "fc2371a0",
   "metadata": {},
   "source": [
    "## Income Group"
   ]
  },
  {
   "cell_type": "code",
   "execution_count": 9,
   "id": "b913bf09",
   "metadata": {},
   "outputs": [
    {
     "data": {
      "text/plain": [
       "25903"
      ]
     },
     "execution_count": 9,
     "metadata": {},
     "output_type": "execute_result"
    }
   ],
   "source": [
    "# Determining income groups and creating flag\n",
    "\n",
    "high_activity_customers['income'].min()"
   ]
  },
  {
   "cell_type": "code",
   "execution_count": 10,
   "id": "a4c3aafb",
   "metadata": {},
   "outputs": [
    {
     "data": {
      "text/plain": [
       "593901"
      ]
     },
     "execution_count": 10,
     "metadata": {},
     "output_type": "execute_result"
    }
   ],
   "source": [
    "# Determining income groups and creating flag\n",
    "\n",
    "high_activity_customers['income'].max()"
   ]
  },
  {
   "cell_type": "code",
   "execution_count": 11,
   "id": "7931b3ec",
   "metadata": {},
   "outputs": [],
   "source": [
    "# Creating a flag 'income_group' \n",
    "\n",
    "high_activity_customers.loc[high_activity_customers['income'] <= 75000, 'income_group'] = 'Working Class'\n",
    "high_activity_customers.loc[(high_activity_customers['income'] > 75000) & (high_activity_customers['income'] < 120001), 'income_group'] = 'Middle Class'\n",
    "high_activity_customers.loc[(high_activity_customers['income'] > 120000) & (high_activity_customers['income'] < 400001), 'income_group'] = 'Upper Class'\n",
    "high_activity_customers.loc[high_activity_customers['income'] > 400000, 'income_group'] = 'High Wealth Class'"
   ]
  },
  {
   "cell_type": "code",
   "execution_count": 12,
   "id": "69158460",
   "metadata": {},
   "outputs": [
    {
     "data": {
      "text/plain": [
       "income_group\n",
       "Middle Class         11878317\n",
       "Working Class         9906733\n",
       "Upper Class           9132499\n",
       "High Wealth Class       46996\n",
       "Name: count, dtype: int64"
      ]
     },
     "execution_count": 12,
     "metadata": {},
     "output_type": "execute_result"
    }
   ],
   "source": [
    "# Checking that total of column values equals total rows in pickle\n",
    "\n",
    "high_activity_customers['income_group'].value_counts(dropna = False)"
   ]
  },
  {
   "cell_type": "markdown",
   "id": "3656ad50",
   "metadata": {},
   "source": [
    "## Departments"
   ]
  },
  {
   "cell_type": "code",
   "execution_count": 13,
   "id": "8d961e0d",
   "metadata": {},
   "outputs": [],
   "source": [
    "# Importing departments data set\n",
    "\n",
    "df_departments = pd.read_csv(os.path.join(path, '02 Data', 'Prepared Data', 'departments_wrangled.csv'), index_col = False)"
   ]
  },
  {
   "cell_type": "code",
   "execution_count": 14,
   "id": "4cbc17cd",
   "metadata": {},
   "outputs": [],
   "source": [
    "# Rename column\n",
    "df_departments = df_departments.rename(columns={'Unnamed: 0': 'department_id'})"
   ]
  },
  {
   "cell_type": "code",
   "execution_count": 16,
   "id": "71267242",
   "metadata": {},
   "outputs": [
    {
     "data": {
      "text/html": [
       "<div>\n",
       "<style scoped>\n",
       "    .dataframe tbody tr th:only-of-type {\n",
       "        vertical-align: middle;\n",
       "    }\n",
       "\n",
       "    .dataframe tbody tr th {\n",
       "        vertical-align: top;\n",
       "    }\n",
       "\n",
       "    .dataframe thead th {\n",
       "        text-align: right;\n",
       "    }\n",
       "</style>\n",
       "<table border=\"1\" class=\"dataframe\">\n",
       "  <thead>\n",
       "    <tr style=\"text-align: right;\">\n",
       "      <th></th>\n",
       "      <th>department_id</th>\n",
       "      <th>department</th>\n",
       "    </tr>\n",
       "  </thead>\n",
       "  <tbody>\n",
       "    <tr>\n",
       "      <th>0</th>\n",
       "      <td>1</td>\n",
       "      <td>frozen</td>\n",
       "    </tr>\n",
       "    <tr>\n",
       "      <th>1</th>\n",
       "      <td>2</td>\n",
       "      <td>other</td>\n",
       "    </tr>\n",
       "    <tr>\n",
       "      <th>2</th>\n",
       "      <td>3</td>\n",
       "      <td>bakery</td>\n",
       "    </tr>\n",
       "    <tr>\n",
       "      <th>3</th>\n",
       "      <td>4</td>\n",
       "      <td>produce</td>\n",
       "    </tr>\n",
       "    <tr>\n",
       "      <th>4</th>\n",
       "      <td>5</td>\n",
       "      <td>alcohol</td>\n",
       "    </tr>\n",
       "    <tr>\n",
       "      <th>5</th>\n",
       "      <td>6</td>\n",
       "      <td>international</td>\n",
       "    </tr>\n",
       "    <tr>\n",
       "      <th>6</th>\n",
       "      <td>7</td>\n",
       "      <td>beverages</td>\n",
       "    </tr>\n",
       "    <tr>\n",
       "      <th>7</th>\n",
       "      <td>8</td>\n",
       "      <td>pets</td>\n",
       "    </tr>\n",
       "    <tr>\n",
       "      <th>8</th>\n",
       "      <td>9</td>\n",
       "      <td>dry goods pasta</td>\n",
       "    </tr>\n",
       "    <tr>\n",
       "      <th>9</th>\n",
       "      <td>10</td>\n",
       "      <td>bulk</td>\n",
       "    </tr>\n",
       "    <tr>\n",
       "      <th>10</th>\n",
       "      <td>11</td>\n",
       "      <td>personal care</td>\n",
       "    </tr>\n",
       "    <tr>\n",
       "      <th>11</th>\n",
       "      <td>12</td>\n",
       "      <td>meat seafood</td>\n",
       "    </tr>\n",
       "    <tr>\n",
       "      <th>12</th>\n",
       "      <td>13</td>\n",
       "      <td>pantry</td>\n",
       "    </tr>\n",
       "    <tr>\n",
       "      <th>13</th>\n",
       "      <td>14</td>\n",
       "      <td>breakfast</td>\n",
       "    </tr>\n",
       "    <tr>\n",
       "      <th>14</th>\n",
       "      <td>15</td>\n",
       "      <td>canned goods</td>\n",
       "    </tr>\n",
       "    <tr>\n",
       "      <th>15</th>\n",
       "      <td>16</td>\n",
       "      <td>dairy eggs</td>\n",
       "    </tr>\n",
       "    <tr>\n",
       "      <th>16</th>\n",
       "      <td>17</td>\n",
       "      <td>household</td>\n",
       "    </tr>\n",
       "    <tr>\n",
       "      <th>17</th>\n",
       "      <td>18</td>\n",
       "      <td>babies</td>\n",
       "    </tr>\n",
       "    <tr>\n",
       "      <th>18</th>\n",
       "      <td>19</td>\n",
       "      <td>snacks</td>\n",
       "    </tr>\n",
       "    <tr>\n",
       "      <th>19</th>\n",
       "      <td>20</td>\n",
       "      <td>deli</td>\n",
       "    </tr>\n",
       "    <tr>\n",
       "      <th>20</th>\n",
       "      <td>21</td>\n",
       "      <td>missing</td>\n",
       "    </tr>\n",
       "  </tbody>\n",
       "</table>\n",
       "</div>"
      ],
      "text/plain": [
       "    department_id       department\n",
       "0               1           frozen\n",
       "1               2            other\n",
       "2               3           bakery\n",
       "3               4          produce\n",
       "4               5          alcohol\n",
       "5               6    international\n",
       "6               7        beverages\n",
       "7               8             pets\n",
       "8               9  dry goods pasta\n",
       "9              10             bulk\n",
       "10             11    personal care\n",
       "11             12     meat seafood\n",
       "12             13           pantry\n",
       "13             14        breakfast\n",
       "14             15     canned goods\n",
       "15             16       dairy eggs\n",
       "16             17        household\n",
       "17             18           babies\n",
       "18             19           snacks\n",
       "19             20             deli\n",
       "20             21          missing"
      ]
     },
     "execution_count": 16,
     "metadata": {},
     "output_type": "execute_result"
    }
   ],
   "source": [
    "# Print output\n",
    "df_departments "
   ]
  },
  {
   "cell_type": "code",
   "execution_count": 17,
   "id": "6a821bdd",
   "metadata": {},
   "outputs": [],
   "source": [
    "# Merging the departments dataframe with the high_activity_customers dataframe\n",
    "\n",
    "high_activity_customers = high_activity_customers.merge(df_departments, on = 'department_id')"
   ]
  },
  {
   "cell_type": "code",
   "execution_count": 25,
   "id": "f16caaa7",
   "metadata": {},
   "outputs": [
    {
     "data": {
      "text/plain": [
       "Index(['user_id', 'gender', 'state', 'age', 'date_joined',\n",
       "       'number_of_dependants', 'fam_status', 'income', 'order_id',\n",
       "       'order_number', 'orders_day_of_week', 'order_hour_of_day',\n",
       "       'days_since_prior_order', 'product_id', 'add_to_cart_order',\n",
       "       'reordered', 'product_name', 'aisle_id', 'department_id', 'prices',\n",
       "       '_merge', 'price_range_loc', 'busiest_day', 'busiest_days',\n",
       "       'busiest_period_of_day', 'max_order', 'loyalty_flag', 'average_price',\n",
       "       'spending_flag', 'median_prior_orders', 'order_frequency_flag',\n",
       "       'region', 'customer_activity', 'age_group', 'income_group',\n",
       "       'department', 'family_type'],\n",
       "      dtype='object')"
      ]
     },
     "execution_count": 25,
     "metadata": {},
     "output_type": "execute_result"
    }
   ],
   "source": [
    "# Print output\n",
    "high_activity_customers.columns"
   ]
  },
  {
   "cell_type": "code",
   "execution_count": 27,
   "id": "4215fd75",
   "metadata": {},
   "outputs": [],
   "source": [
    "# Creating family_type group\n",
    "\n",
    "high_activity_customers.loc[(high_activity_customers['fam_status'].isin(['divorced/widowed', 'living with parents and siblings', 'single'])) & (high_activity_customers['number_of_dependants'] == 0), 'family_type'] = 'single no dependants'\n",
    "high_activity_customers.loc[(high_activity_customers['fam_status'].isin(['divorced/widowed', 'living with parents and siblings', 'single'])) & (high_activity_customers['number_of_dependants'] > 0), 'family_type'] = 'Single with dependants'\n",
    "high_activity_customers.loc[(high_activity_customers['fam_status'] == 'married') & (high_activity_customers['number_of_dependants'] == 1), 'family_type'] = 'married no dependants'\n",
    "high_activity_customers.loc[(high_activity_customers['fam_status'] == 'married') & (high_activity_customers['number_of_dependants'] > 1), 'family_type'] = 'married with dependants'"
   ]
  },
  {
   "cell_type": "code",
   "execution_count": 29,
   "id": "685b3bd7",
   "metadata": {},
   "outputs": [
    {
     "data": {
      "text/plain": [
       "family_type\n",
       "married with dependants    14532632\n",
       "single no dependants        7739680\n",
       "married no dependants       7211061\n",
       "Single with dependants      1481172\n",
       "Name: count, dtype: int64"
      ]
     },
     "execution_count": 29,
     "metadata": {},
     "output_type": "execute_result"
    }
   ],
   "source": [
    "# Print Output\n",
    "high_activity_customers['family_type'].value_counts()"
   ]
  },
  {
   "cell_type": "code",
   "execution_count": 32,
   "id": "5e7534be",
   "metadata": {},
   "outputs": [
    {
     "data": {
      "text/plain": [
       "orders_day_of_week\n",
       "0    5908610\n",
       "1    5411676\n",
       "6    4291303\n",
       "5    4033726\n",
       "2    4024704\n",
       "3    3669532\n",
       "4    3624994\n",
       "Name: count, dtype: int64"
      ]
     },
     "execution_count": 32,
     "metadata": {},
     "output_type": "execute_result"
    }
   ],
   "source": [
    "# Counting values for days of the week where customers shop the most, being 0 = Saturday and so on\n",
    "high_activity_customers['orders_day_of_week'].value_counts(dropna = False)"
   ]
  },
  {
   "cell_type": "code",
   "execution_count": 42,
   "id": "2b477307",
   "metadata": {},
   "outputs": [],
   "source": [
    "# Creating buyer_type group\n",
    "high_activity_customers.loc[(high_activity_customers['orders_day_of_week'].isin([0, 1])) , 'buyer_type'] = 'Weekend Buyer'\n",
    "high_activity_customers.loc[(high_activity_customers['orders_day_of_week'].isin([2, 3, 4, 5, 6])) , 'buyer_type'] = 'Weekly Buyer'"
   ]
  },
  {
   "cell_type": "code",
   "execution_count": 43,
   "id": "eb3c161b",
   "metadata": {},
   "outputs": [
    {
     "data": {
      "text/plain": [
       "buyer_type\n",
       "Weekly Buyer     19644259\n",
       "Weekend Buyer    11320286\n",
       "Name: count, dtype: int64"
      ]
     },
     "execution_count": 43,
     "metadata": {},
     "output_type": "execute_result"
    }
   ],
   "source": [
    "high_activity_customers['buyer_type'].value_counts(dropna = False)"
   ]
  },
  {
   "cell_type": "code",
   "execution_count": 52,
   "id": "d15ac2d7",
   "metadata": {},
   "outputs": [
    {
     "data": {
      "text/plain": [
       "order_hour_of_day\n",
       "10    2649744\n",
       "11    2614876\n",
       "14    2567903\n",
       "13    2539276\n",
       "15    2535960\n",
       "12    2495795\n",
       "16    2413681\n",
       "9     2363606\n",
       "17    1982343\n",
       "8     1659108\n",
       "18    1551184\n",
       "19    1193878\n",
       "20     930909\n",
       "7      863213\n",
       "21     763111\n",
       "22     607060\n",
       "23     384554\n",
       "6      281013\n",
       "0      208042\n",
       "1      109621\n",
       "5       84418\n",
       "2       65691\n",
       "4       50763\n",
       "3       48796\n",
       "Name: count, dtype: int64"
      ]
     },
     "execution_count": 52,
     "metadata": {},
     "output_type": "execute_result"
    }
   ],
   "source": [
    "# Counting values for hours of the day where customers shop the most\n",
    "high_activity_customers['order_hour_of_day'].value_counts(dropna = False)"
   ]
  },
  {
   "cell_type": "code",
   "execution_count": 53,
   "id": "8064aeee",
   "metadata": {},
   "outputs": [],
   "source": [
    "# Creating buyer_type_hour group\n",
    "high_activity_customers.loc[high_activity_customers['order_hour_of_day'] >= 12, 'buyer_type_hour'] = 'Late Buyer'\n",
    "high_activity_customers.loc[high_activity_customers['order_hour_of_day'] < 12, 'buyer_type_hour'] = 'Early Buyer'\n"
   ]
  },
  {
   "cell_type": "code",
   "execution_count": 51,
   "id": "16cdcff8",
   "metadata": {},
   "outputs": [
    {
     "data": {
      "text/plain": [
       "buyer_type_hour\n",
       "Late Buyer     19965654\n",
       "Early Buyer    10998891\n",
       "Name: count, dtype: int64"
      ]
     },
     "execution_count": 51,
     "metadata": {},
     "output_type": "execute_result"
    }
   ],
   "source": [
    "high_activity_customers['buyer_type_hour'].value_counts(dropna = False)"
   ]
  },
  {
   "cell_type": "code",
   "execution_count": 54,
   "id": "c965bd13",
   "metadata": {},
   "outputs": [
    {
     "data": {
      "text/html": [
       "<div>\n",
       "<style scoped>\n",
       "    .dataframe tbody tr th:only-of-type {\n",
       "        vertical-align: middle;\n",
       "    }\n",
       "\n",
       "    .dataframe tbody tr th {\n",
       "        vertical-align: top;\n",
       "    }\n",
       "\n",
       "    .dataframe thead th {\n",
       "        text-align: right;\n",
       "    }\n",
       "</style>\n",
       "<table border=\"1\" class=\"dataframe\">\n",
       "  <thead>\n",
       "    <tr style=\"text-align: right;\">\n",
       "      <th></th>\n",
       "      <th>user_id</th>\n",
       "      <th>gender</th>\n",
       "      <th>state</th>\n",
       "      <th>age</th>\n",
       "      <th>date_joined</th>\n",
       "      <th>number_of_dependants</th>\n",
       "      <th>fam_status</th>\n",
       "      <th>income</th>\n",
       "      <th>order_id</th>\n",
       "      <th>order_number</th>\n",
       "      <th>...</th>\n",
       "      <th>order_frequency_flag</th>\n",
       "      <th>region</th>\n",
       "      <th>customer_activity</th>\n",
       "      <th>age_group</th>\n",
       "      <th>income_group</th>\n",
       "      <th>department</th>\n",
       "      <th>family_type</th>\n",
       "      <th>buyer_type</th>\n",
       "      <th>buyer_type_hour</th>\n",
       "      <th>buyer_type_hour1</th>\n",
       "    </tr>\n",
       "  </thead>\n",
       "  <tbody>\n",
       "    <tr>\n",
       "      <th>0</th>\n",
       "      <td>33890</td>\n",
       "      <td>Female</td>\n",
       "      <td>New Mexico</td>\n",
       "      <td>36</td>\n",
       "      <td>1/1/2017</td>\n",
       "      <td>0</td>\n",
       "      <td>single</td>\n",
       "      <td>59285</td>\n",
       "      <td>474720</td>\n",
       "      <td>4</td>\n",
       "      <td>...</td>\n",
       "      <td>Non-frequent customer</td>\n",
       "      <td>West</td>\n",
       "      <td>high activity</td>\n",
       "      <td>30-39</td>\n",
       "      <td>Working Class</td>\n",
       "      <td>beverages</td>\n",
       "      <td>single no dependants</td>\n",
       "      <td>Weekend Buyer</td>\n",
       "      <td>Late Buyer</td>\n",
       "      <td>Late Buyer</td>\n",
       "    </tr>\n",
       "    <tr>\n",
       "      <th>1</th>\n",
       "      <td>33890</td>\n",
       "      <td>Female</td>\n",
       "      <td>New Mexico</td>\n",
       "      <td>36</td>\n",
       "      <td>1/1/2017</td>\n",
       "      <td>0</td>\n",
       "      <td>single</td>\n",
       "      <td>59285</td>\n",
       "      <td>896617</td>\n",
       "      <td>5</td>\n",
       "      <td>...</td>\n",
       "      <td>Non-frequent customer</td>\n",
       "      <td>West</td>\n",
       "      <td>high activity</td>\n",
       "      <td>30-39</td>\n",
       "      <td>Working Class</td>\n",
       "      <td>beverages</td>\n",
       "      <td>single no dependants</td>\n",
       "      <td>Weekly Buyer</td>\n",
       "      <td>Late Buyer</td>\n",
       "      <td>Late Buyer</td>\n",
       "    </tr>\n",
       "    <tr>\n",
       "      <th>2</th>\n",
       "      <td>33890</td>\n",
       "      <td>Female</td>\n",
       "      <td>New Mexico</td>\n",
       "      <td>36</td>\n",
       "      <td>1/1/2017</td>\n",
       "      <td>0</td>\n",
       "      <td>single</td>\n",
       "      <td>59285</td>\n",
       "      <td>1044841</td>\n",
       "      <td>3</td>\n",
       "      <td>...</td>\n",
       "      <td>Non-frequent customer</td>\n",
       "      <td>West</td>\n",
       "      <td>high activity</td>\n",
       "      <td>30-39</td>\n",
       "      <td>Working Class</td>\n",
       "      <td>beverages</td>\n",
       "      <td>single no dependants</td>\n",
       "      <td>Weekly Buyer</td>\n",
       "      <td>Early Buyer</td>\n",
       "      <td>Early Buyer</td>\n",
       "    </tr>\n",
       "    <tr>\n",
       "      <th>3</th>\n",
       "      <td>65803</td>\n",
       "      <td>Male</td>\n",
       "      <td>Idaho</td>\n",
       "      <td>35</td>\n",
       "      <td>1/1/2017</td>\n",
       "      <td>2</td>\n",
       "      <td>married</td>\n",
       "      <td>99568</td>\n",
       "      <td>3233494</td>\n",
       "      <td>6</td>\n",
       "      <td>...</td>\n",
       "      <td>Frequent customer</td>\n",
       "      <td>West</td>\n",
       "      <td>high activity</td>\n",
       "      <td>30-39</td>\n",
       "      <td>Middle Class</td>\n",
       "      <td>beverages</td>\n",
       "      <td>married with dependants</td>\n",
       "      <td>Weekly Buyer</td>\n",
       "      <td>Late Buyer</td>\n",
       "      <td>Late Buyer</td>\n",
       "    </tr>\n",
       "    <tr>\n",
       "      <th>4</th>\n",
       "      <td>65803</td>\n",
       "      <td>Male</td>\n",
       "      <td>Idaho</td>\n",
       "      <td>35</td>\n",
       "      <td>1/1/2017</td>\n",
       "      <td>2</td>\n",
       "      <td>married</td>\n",
       "      <td>99568</td>\n",
       "      <td>142275</td>\n",
       "      <td>8</td>\n",
       "      <td>...</td>\n",
       "      <td>Frequent customer</td>\n",
       "      <td>West</td>\n",
       "      <td>high activity</td>\n",
       "      <td>30-39</td>\n",
       "      <td>Middle Class</td>\n",
       "      <td>beverages</td>\n",
       "      <td>married with dependants</td>\n",
       "      <td>Weekend Buyer</td>\n",
       "      <td>Late Buyer</td>\n",
       "      <td>Late Buyer</td>\n",
       "    </tr>\n",
       "  </tbody>\n",
       "</table>\n",
       "<p>5 rows × 40 columns</p>\n",
       "</div>"
      ],
      "text/plain": [
       "   user_id  gender       state  age date_joined  number_of_dependants  \\\n",
       "0    33890  Female  New Mexico   36    1/1/2017                     0   \n",
       "1    33890  Female  New Mexico   36    1/1/2017                     0   \n",
       "2    33890  Female  New Mexico   36    1/1/2017                     0   \n",
       "3    65803    Male       Idaho   35    1/1/2017                     2   \n",
       "4    65803    Male       Idaho   35    1/1/2017                     2   \n",
       "\n",
       "  fam_status  income  order_id  order_number  ...   order_frequency_flag  \\\n",
       "0     single   59285    474720             4  ...  Non-frequent customer   \n",
       "1     single   59285    896617             5  ...  Non-frequent customer   \n",
       "2     single   59285   1044841             3  ...  Non-frequent customer   \n",
       "3    married   99568   3233494             6  ...      Frequent customer   \n",
       "4    married   99568    142275             8  ...      Frequent customer   \n",
       "\n",
       "   region  customer_activity  age_group   income_group  department  \\\n",
       "0    West      high activity      30-39  Working Class   beverages   \n",
       "1    West      high activity      30-39  Working Class   beverages   \n",
       "2    West      high activity      30-39  Working Class   beverages   \n",
       "3    West      high activity      30-39   Middle Class   beverages   \n",
       "4    West      high activity      30-39   Middle Class   beverages   \n",
       "\n",
       "               family_type     buyer_type  buyer_type_hour  buyer_type_hour1  \n",
       "0     single no dependants  Weekend Buyer       Late Buyer        Late Buyer  \n",
       "1     single no dependants   Weekly Buyer       Late Buyer        Late Buyer  \n",
       "2     single no dependants   Weekly Buyer      Early Buyer       Early Buyer  \n",
       "3  married with dependants   Weekly Buyer       Late Buyer        Late Buyer  \n",
       "4  married with dependants  Weekend Buyer       Late Buyer        Late Buyer  \n",
       "\n",
       "[5 rows x 40 columns]"
      ]
     },
     "execution_count": 54,
     "metadata": {},
     "output_type": "execute_result"
    }
   ],
   "source": [
    "high_activity_customers.head()"
   ]
  },
  {
   "cell_type": "code",
   "execution_count": 55,
   "id": "2b578db1",
   "metadata": {},
   "outputs": [],
   "source": [
    "high_activity_customers = high_activity_customers.drop('buyer_type_hour1', axis=1)\n"
   ]
  },
  {
   "cell_type": "code",
   "execution_count": 56,
   "id": "7a2d98ad",
   "metadata": {},
   "outputs": [
    {
     "data": {
      "text/html": [
       "<div>\n",
       "<style scoped>\n",
       "    .dataframe tbody tr th:only-of-type {\n",
       "        vertical-align: middle;\n",
       "    }\n",
       "\n",
       "    .dataframe tbody tr th {\n",
       "        vertical-align: top;\n",
       "    }\n",
       "\n",
       "    .dataframe thead th {\n",
       "        text-align: right;\n",
       "    }\n",
       "</style>\n",
       "<table border=\"1\" class=\"dataframe\">\n",
       "  <thead>\n",
       "    <tr style=\"text-align: right;\">\n",
       "      <th></th>\n",
       "      <th>user_id</th>\n",
       "      <th>gender</th>\n",
       "      <th>state</th>\n",
       "      <th>age</th>\n",
       "      <th>date_joined</th>\n",
       "      <th>number_of_dependants</th>\n",
       "      <th>fam_status</th>\n",
       "      <th>income</th>\n",
       "      <th>order_id</th>\n",
       "      <th>order_number</th>\n",
       "      <th>...</th>\n",
       "      <th>median_prior_orders</th>\n",
       "      <th>order_frequency_flag</th>\n",
       "      <th>region</th>\n",
       "      <th>customer_activity</th>\n",
       "      <th>age_group</th>\n",
       "      <th>income_group</th>\n",
       "      <th>department</th>\n",
       "      <th>family_type</th>\n",
       "      <th>buyer_type</th>\n",
       "      <th>buyer_type_hour</th>\n",
       "    </tr>\n",
       "  </thead>\n",
       "  <tbody>\n",
       "    <tr>\n",
       "      <th>0</th>\n",
       "      <td>33890</td>\n",
       "      <td>Female</td>\n",
       "      <td>New Mexico</td>\n",
       "      <td>36</td>\n",
       "      <td>1/1/2017</td>\n",
       "      <td>0</td>\n",
       "      <td>single</td>\n",
       "      <td>59285</td>\n",
       "      <td>474720</td>\n",
       "      <td>4</td>\n",
       "      <td>...</td>\n",
       "      <td>26.0</td>\n",
       "      <td>Non-frequent customer</td>\n",
       "      <td>West</td>\n",
       "      <td>high activity</td>\n",
       "      <td>30-39</td>\n",
       "      <td>Working Class</td>\n",
       "      <td>beverages</td>\n",
       "      <td>single no dependants</td>\n",
       "      <td>Weekend Buyer</td>\n",
       "      <td>Late Buyer</td>\n",
       "    </tr>\n",
       "    <tr>\n",
       "      <th>1</th>\n",
       "      <td>33890</td>\n",
       "      <td>Female</td>\n",
       "      <td>New Mexico</td>\n",
       "      <td>36</td>\n",
       "      <td>1/1/2017</td>\n",
       "      <td>0</td>\n",
       "      <td>single</td>\n",
       "      <td>59285</td>\n",
       "      <td>896617</td>\n",
       "      <td>5</td>\n",
       "      <td>...</td>\n",
       "      <td>26.0</td>\n",
       "      <td>Non-frequent customer</td>\n",
       "      <td>West</td>\n",
       "      <td>high activity</td>\n",
       "      <td>30-39</td>\n",
       "      <td>Working Class</td>\n",
       "      <td>beverages</td>\n",
       "      <td>single no dependants</td>\n",
       "      <td>Weekly Buyer</td>\n",
       "      <td>Late Buyer</td>\n",
       "    </tr>\n",
       "    <tr>\n",
       "      <th>2</th>\n",
       "      <td>33890</td>\n",
       "      <td>Female</td>\n",
       "      <td>New Mexico</td>\n",
       "      <td>36</td>\n",
       "      <td>1/1/2017</td>\n",
       "      <td>0</td>\n",
       "      <td>single</td>\n",
       "      <td>59285</td>\n",
       "      <td>1044841</td>\n",
       "      <td>3</td>\n",
       "      <td>...</td>\n",
       "      <td>26.0</td>\n",
       "      <td>Non-frequent customer</td>\n",
       "      <td>West</td>\n",
       "      <td>high activity</td>\n",
       "      <td>30-39</td>\n",
       "      <td>Working Class</td>\n",
       "      <td>beverages</td>\n",
       "      <td>single no dependants</td>\n",
       "      <td>Weekly Buyer</td>\n",
       "      <td>Early Buyer</td>\n",
       "    </tr>\n",
       "    <tr>\n",
       "      <th>3</th>\n",
       "      <td>65803</td>\n",
       "      <td>Male</td>\n",
       "      <td>Idaho</td>\n",
       "      <td>35</td>\n",
       "      <td>1/1/2017</td>\n",
       "      <td>2</td>\n",
       "      <td>married</td>\n",
       "      <td>99568</td>\n",
       "      <td>3233494</td>\n",
       "      <td>6</td>\n",
       "      <td>...</td>\n",
       "      <td>7.0</td>\n",
       "      <td>Frequent customer</td>\n",
       "      <td>West</td>\n",
       "      <td>high activity</td>\n",
       "      <td>30-39</td>\n",
       "      <td>Middle Class</td>\n",
       "      <td>beverages</td>\n",
       "      <td>married with dependants</td>\n",
       "      <td>Weekly Buyer</td>\n",
       "      <td>Late Buyer</td>\n",
       "    </tr>\n",
       "    <tr>\n",
       "      <th>4</th>\n",
       "      <td>65803</td>\n",
       "      <td>Male</td>\n",
       "      <td>Idaho</td>\n",
       "      <td>35</td>\n",
       "      <td>1/1/2017</td>\n",
       "      <td>2</td>\n",
       "      <td>married</td>\n",
       "      <td>99568</td>\n",
       "      <td>142275</td>\n",
       "      <td>8</td>\n",
       "      <td>...</td>\n",
       "      <td>7.0</td>\n",
       "      <td>Frequent customer</td>\n",
       "      <td>West</td>\n",
       "      <td>high activity</td>\n",
       "      <td>30-39</td>\n",
       "      <td>Middle Class</td>\n",
       "      <td>beverages</td>\n",
       "      <td>married with dependants</td>\n",
       "      <td>Weekend Buyer</td>\n",
       "      <td>Late Buyer</td>\n",
       "    </tr>\n",
       "  </tbody>\n",
       "</table>\n",
       "<p>5 rows × 39 columns</p>\n",
       "</div>"
      ],
      "text/plain": [
       "   user_id  gender       state  age date_joined  number_of_dependants  \\\n",
       "0    33890  Female  New Mexico   36    1/1/2017                     0   \n",
       "1    33890  Female  New Mexico   36    1/1/2017                     0   \n",
       "2    33890  Female  New Mexico   36    1/1/2017                     0   \n",
       "3    65803    Male       Idaho   35    1/1/2017                     2   \n",
       "4    65803    Male       Idaho   35    1/1/2017                     2   \n",
       "\n",
       "  fam_status  income  order_id  order_number  ...  median_prior_orders  \\\n",
       "0     single   59285    474720             4  ...                 26.0   \n",
       "1     single   59285    896617             5  ...                 26.0   \n",
       "2     single   59285   1044841             3  ...                 26.0   \n",
       "3    married   99568   3233494             6  ...                  7.0   \n",
       "4    married   99568    142275             8  ...                  7.0   \n",
       "\n",
       "    order_frequency_flag  region  customer_activity  age_group   income_group  \\\n",
       "0  Non-frequent customer    West      high activity      30-39  Working Class   \n",
       "1  Non-frequent customer    West      high activity      30-39  Working Class   \n",
       "2  Non-frequent customer    West      high activity      30-39  Working Class   \n",
       "3      Frequent customer    West      high activity      30-39   Middle Class   \n",
       "4      Frequent customer    West      high activity      30-39   Middle Class   \n",
       "\n",
       "  department              family_type     buyer_type  buyer_type_hour  \n",
       "0  beverages     single no dependants  Weekend Buyer       Late Buyer  \n",
       "1  beverages     single no dependants   Weekly Buyer       Late Buyer  \n",
       "2  beverages     single no dependants   Weekly Buyer      Early Buyer  \n",
       "3  beverages  married with dependants   Weekly Buyer       Late Buyer  \n",
       "4  beverages  married with dependants  Weekend Buyer       Late Buyer  \n",
       "\n",
       "[5 rows x 39 columns]"
      ]
     },
     "execution_count": 56,
     "metadata": {},
     "output_type": "execute_result"
    }
   ],
   "source": [
    "high_activity_customers.head()"
   ]
  },
  {
   "cell_type": "markdown",
   "id": "47cc9409",
   "metadata": {},
   "source": [
    "# Exporting and saving new dataframe high_activity_customers"
   ]
  },
  {
   "cell_type": "code",
   "execution_count": 57,
   "id": "dd9a9c4d",
   "metadata": {},
   "outputs": [],
   "source": [
    "high_activity_customers.to_pickle(os.path.join(path, '02 Data', 'Prepared Data', 'ords_prods_custs_depts.pkl'))"
   ]
  },
  {
   "cell_type": "code",
   "execution_count": null,
   "id": "bf4444ac",
   "metadata": {},
   "outputs": [],
   "source": []
  }
 ],
 "metadata": {
  "kernelspec": {
   "display_name": "Python 3 (ipykernel)",
   "language": "python",
   "name": "python3"
  },
  "language_info": {
   "codemirror_mode": {
    "name": "ipython",
    "version": 3
   },
   "file_extension": ".py",
   "mimetype": "text/x-python",
   "name": "python",
   "nbconvert_exporter": "python",
   "pygments_lexer": "ipython3",
   "version": "3.11.4"
  }
 },
 "nbformat": 4,
 "nbformat_minor": 5
}
